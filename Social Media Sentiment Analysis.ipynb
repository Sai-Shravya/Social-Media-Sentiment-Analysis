{
 "cells": [
  {
   "cell_type": "markdown",
   "id": "65b975db",
   "metadata": {},
   "source": [
    "# Social Media Sentiment Analysis"
   ]
  },
  {
   "cell_type": "markdown",
   "id": "8c28496a",
   "metadata": {},
   "source": [
    "### 1. Import necessary libraries"
   ]
  },
  {
   "cell_type": "code",
   "execution_count": 2,
   "id": "8f3fb9fa",
   "metadata": {},
   "outputs": [],
   "source": [
    "import pandas as pd\n",
    "from textblob import TextBlob\n",
    "import matplotlib.pyplot as plt\n",
    "import seaborn as sns"
   ]
  },
  {
   "cell_type": "markdown",
   "id": "095b8d99",
   "metadata": {},
   "source": [
    "### 2. Load the data"
   ]
  },
  {
   "cell_type": "code",
   "execution_count": 3,
   "id": "aadb39f3",
   "metadata": {},
   "outputs": [],
   "source": [
    "df = pd.read_csv(r\"C:\\Users\\RIO\\Desktop\\twitter_data.csv\")"
   ]
  },
  {
   "cell_type": "markdown",
   "id": "c8322611",
   "metadata": {},
   "source": [
    "### 3. Print the columns to identify the correct column name"
   ]
  },
  {
   "cell_type": "code",
   "execution_count": 4,
   "id": "abdd706e",
   "metadata": {},
   "outputs": [
    {
     "name": "stdout",
     "output_type": "stream",
     "text": [
      "Columns in the CSV file: Index(['Unnamed: 0', 'id', 'tweet'], dtype='object')\n"
     ]
    }
   ],
   "source": [
    "print(\"Columns in the CSV file:\", df.columns)"
   ]
  },
  {
   "cell_type": "code",
   "execution_count": 5,
   "id": "1fea219a",
   "metadata": {},
   "outputs": [],
   "source": [
    "column_name = 'tweet'  # Change this to the actual column name if it's different"
   ]
  },
  {
   "cell_type": "markdown",
   "id": "5ea60f8d",
   "metadata": {},
   "source": [
    "### 5. Clean the data to handle missing or non-string values"
   ]
  },
  {
   "cell_type": "code",
   "execution_count": 6,
   "id": "e2b76e6e",
   "metadata": {},
   "outputs": [],
   "source": [
    "df = df.dropna(subset=[column_name])  # Remove rows where the tweet column is NaN\n",
    "df[column_name] = df[column_name].astype(str)  # Ensure all entries are strings"
   ]
  },
  {
   "cell_type": "markdown",
   "id": "559893cb",
   "metadata": {},
   "source": [
    "### 6. Preprocess and analyze sentiment"
   ]
  },
  {
   "cell_type": "code",
   "execution_count": 7,
   "id": "370f1669",
   "metadata": {},
   "outputs": [],
   "source": [
    "def preprocess_and_analyze(tweet):\n",
    "    # Remove any unwanted characters, links, etc.\n",
    "    tweet = tweet.lower()\n",
    "    tweet = ' '.join(word for word in tweet.split() if not word.startswith('http'))\n",
    "    tweet = ' '.join(word for word in tweet.split() if word.isalpha())\n",
    "    return tweet, TextBlob(tweet).sentiment.polarity"
   ]
  },
  {
   "cell_type": "markdown",
   "id": "dfdc2818",
   "metadata": {},
   "source": [
    "### 7. Apply preprocessing and sentiment analysis"
   ]
  },
  {
   "cell_type": "code",
   "execution_count": 8,
   "id": "7bf1da68",
   "metadata": {},
   "outputs": [],
   "source": [
    "df['Cleaned_Tweet'], df['Polarity'] = zip(*df[column_name].apply(preprocess_and_analyze))"
   ]
  },
  {
   "cell_type": "markdown",
   "id": "7049c0d2",
   "metadata": {},
   "source": [
    "### 8. Classify the polarity into positive, negative, or neutral"
   ]
  },
  {
   "cell_type": "code",
   "execution_count": 9,
   "id": "2e8cee7b",
   "metadata": {},
   "outputs": [],
   "source": [
    "def classify_sentiment(polarity):\n",
    "    if polarity > 0:\n",
    "        return 'Positive'\n",
    "    elif polarity < 0:\n",
    "        return 'Negative'\n",
    "    else:\n",
    "        return 'Neutral'"
   ]
  },
  {
   "cell_type": "code",
   "execution_count": 10,
   "id": "c9a57e01",
   "metadata": {},
   "outputs": [],
   "source": [
    "df['Sentiment'] = df['Polarity'].apply(classify_sentiment)"
   ]
  },
  {
   "cell_type": "markdown",
   "id": "e2b3a593",
   "metadata": {},
   "source": [
    "### 9. Save the results to a new CSV file"
   ]
  },
  {
   "cell_type": "code",
   "execution_count": 11,
   "id": "b372459f",
   "metadata": {},
   "outputs": [],
   "source": [
    "df.to_csv('tweets_with_sentiment.csv', index=False)"
   ]
  },
  {
   "cell_type": "markdown",
   "id": "d8e26073",
   "metadata": {},
   "source": [
    "### 10. Display the first few rows of the DataFrame"
   ]
  },
  {
   "cell_type": "code",
   "execution_count": 12,
   "id": "0f948b3e",
   "metadata": {},
   "outputs": [
    {
     "name": "stdout",
     "output_type": "stream",
     "text": [
      "   Unnamed: 0       id                                              tweet  \\\n",
      "1         0.0  31963.0           #studiolife #aislife #requires #passion…   \n",
      "3         1.0  31964.0              something inside me dies õ¿ eyes nes…   \n",
      "5         2.0  31965.0   @user #white #supremacists want everyone to s...   \n",
      "7         3.0  31966.0     safe ways to heal your #acne!! #altwaystohe...   \n",
      "9         4.0  31967.0  is the hp and the cursed child book up for res...   \n",
      "\n",
      "                                Cleaned_Tweet  Polarity Sentiment  \n",
      "1                                                   0.0   Neutral  \n",
      "3               something inside me dies eyes       0.0   Neutral  \n",
      "5                            want everyone to       0.0   Neutral  \n",
      "7                      safe ways to heal your       0.5  Positive  \n",
      "9  is the hp and the cursed child book up for       0.0   Neutral  \n"
     ]
    }
   ],
   "source": [
    "print(df.head())"
   ]
  },
  {
   "cell_type": "markdown",
   "id": "18e0eefd",
   "metadata": {},
   "source": [
    "### 11. Count the number of each sentiment"
   ]
  },
  {
   "cell_type": "code",
   "execution_count": 13,
   "id": "03713442",
   "metadata": {},
   "outputs": [],
   "source": [
    "sentiment_counts = df['Sentiment'].value_counts()"
   ]
  },
  {
   "cell_type": "markdown",
   "id": "f88f8946",
   "metadata": {},
   "source": [
    "### 12. Plot the sentiment counts"
   ]
  },
  {
   "cell_type": "code",
   "execution_count": 14,
   "id": "07458238",
   "metadata": {},
   "outputs": [
    {
     "data": {
      "image/png": "[encoded data removed]",
      "text/plain": [
       "<Figure size 640x480 with 1 Axes>"
      ]
     },
     "metadata": {},
     "output_type": "display_data"
    }
   ],
   "source": [
    "sns.barplot(x=sentiment_counts.index, y=sentiment_counts.values, palette='viridis')\n",
    "plt.title('Sentiment Analysis of Tweets')\n",
    "plt.xlabel('Sentiment')\n",
    "plt.ylabel('Count')\n",
    "plt.show()"
   ]
  }
 ],
 "metadata": {
  "kernelspec": {
   "display_name": "Python 3 (ipykernel)",
   "language": "python",
   "name": "python3"
  },
  "language_info": {
   "codemirror_mode": {
    "name": "ipython",
    "version": 3
   },
   "file_extension": ".py",
   "mimetype": "text/x-python",
   "name": "python",
   "nbconvert_exporter": "python",
   "pygments_lexer": "ipython3",
   "version": "3.7.0"
  }
 },
 "nbformat": 4,
 "nbformat_minor": 5
}
